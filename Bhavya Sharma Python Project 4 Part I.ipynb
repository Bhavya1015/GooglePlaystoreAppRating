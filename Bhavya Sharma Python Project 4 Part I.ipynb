{
 "cells": [
  {
   "cell_type": "markdown",
   "id": "efe8dc03",
   "metadata": {},
   "source": [
    "# <center><font color= \"Blue\">***PART I:***</font>\n",
    "# <center><font color= \"Olive\">***EDA & Data Preprocessing on Google App Store Rating Dataset.***</font>\n",
    "<font color= \"Darkblue\">**<H3>Domain:**</H3></font> <font color= \"Brown\"><h4>Mobile device apps</h4></font>\n",
    "    \n",
    "<font color= \"Black\">**Context:**</font>\n",
    "The Play Store apps data has enormous potential to drive app-making businesses to success. However, many\n",
    "apps are being developed every single day and only a few of them become profitable. It is important for\n",
    "developers to be able to predict the success of their app and incorporate features which makes an app\n",
    "successful. Before any such predictive-study can be done, it is necessary to do EDA and data-preprocessing on\n",
    "the apps data available for google app store applications. From the collected apps data and user ratings from\n",
    "the app stores, let's try to extract insightful information.\n",
    "    \n",
    "<font color= \"Black\">**Objective:**</font>\n",
    "The Goal is to explore the data and pre-process it for future use in any predictive analytics study.\n",
    "    \n",
    "<font color= \"Black\">**Data set Information:**</font>\n",
    "Web scraped data of 10k Play Store apps for analyzing the Android market. Each app (row) has values for\n",
    "category, rating, size, and more.\n",
    "    \n",
    "<font color= \"Black\">**Attribute Information:**</font>\n",
    "\n",
    "<font color= \"Blue\">SL.No.</font>  **Attribute--**  Description\n",
    "\n",
    "<font color= \"Blue\">1.</font> **App--**  Application name\n",
    "\n",
    "<font color= \"Blue\">2.</font> **Category--**  Category the app belongs to.\n",
    "\n",
    "<font color= \"Blue\">3.</font> **Rating--**  Overall user rating of the app\n",
    "\n",
    "<font color= \"Blue\">4.</font> **Reviews--**  Total reviews by users on the app\n",
    "\n",
    "<font color= \"Blue\">5.</font> **Size--**  Size of the app\n",
    "\n",
    "<font color= \"Blue\">6.</font> **Installs--**  Number of user reviews for the app\n",
    "\n",
    "<font color= \"Blue\">7.</font> **Type--**  Paid or Free\n",
    "    \n",
    "<font color= \"Blue\">8.</font> **Price--**  Price of the app\n",
    "\n",
    "<font color= \"Blue\">9.</font> **Content Rating--**  Age group the app is targeted at - children/Mature 21+ /Adult\n",
    "    \n",
    "<font color= \"Blue\">10.</font> **Genres--**  An app can belong to multiple genres (apart from its main category). For eg. a\n",
    "musical family game will belong to Music, Game, Family genres.\n",
    "\n",
    "<font color= \"Blue\">11.</font> **Last Updated--**  Date when the app was last updated on play store.\n",
    "\n",
    "<font color= \"Blue\">12.</font> **Current Ver--**  Current version of the app available on play store.\n",
    "    \n",
    "<font color= \"Blue\">13.</font> **Android Ver--**  Min required Android Version."
   ]
  },
  {
   "cell_type": "markdown",
   "id": "3000ad86",
   "metadata": {},
   "source": [
    "# ANALYSIS:-"
   ]
  },
  {
   "cell_type": "markdown",
   "id": "7c834ece",
   "metadata": {},
   "source": [
    "**<H3>1. Import required libraries and read the dataset.**"
   ]
  },
  {
   "cell_type": "code",
   "execution_count": 837,
   "id": "643a5507",
   "metadata": {},
   "outputs": [],
   "source": [
    "#Importing libraries\n",
    "import pandas as pd\n",
    "import numpy as np\n",
    "import matplotlib.pyplot as plt\n",
    "import seaborn as sns\n",
    "from sklearn.model_selection import train_test_split\n",
    "from sklearn.preprocessing import StandardScaler"
   ]
  },
  {
   "cell_type": "code",
   "execution_count": 838,
   "id": "ec3f5ebc",
   "metadata": {},
   "outputs": [],
   "source": [
    "#Reading the DataSet\n",
    "data=pd.read_csv(\"GooglePlaystoreAppsData.csv\")"
   ]
  },
  {
   "cell_type": "markdown",
   "id": "a7143882",
   "metadata": {},
   "source": [
    "**<h3>2. Check the first few samples, shape, info of the data and try to familiarize yourself with different features.**"
   ]
  },
  {
   "cell_type": "code",
   "execution_count": 839,
   "id": "9765a7bf",
   "metadata": {},
   "outputs": [
    {
     "data": {
      "text/html": [
       "<div>\n",
       "<style scoped>\n",
       "    .dataframe tbody tr th:only-of-type {\n",
       "        vertical-align: middle;\n",
       "    }\n",
       "\n",
       "    .dataframe tbody tr th {\n",
       "        vertical-align: top;\n",
       "    }\n",
       "\n",
       "    .dataframe thead th {\n",
       "        text-align: right;\n",
       "    }\n",
       "</style>\n",
       "<table border=\"1\" class=\"dataframe\">\n",
       "  <thead>\n",
       "    <tr style=\"text-align: right;\">\n",
       "      <th></th>\n",
       "      <th>App</th>\n",
       "      <th>Category</th>\n",
       "      <th>Rating</th>\n",
       "      <th>Reviews</th>\n",
       "      <th>Size</th>\n",
       "      <th>Installs</th>\n",
       "      <th>Type</th>\n",
       "      <th>Price</th>\n",
       "      <th>Content Rating</th>\n",
       "      <th>Genres</th>\n",
       "      <th>Last Updated</th>\n",
       "      <th>Current Ver</th>\n",
       "      <th>Android Ver</th>\n",
       "    </tr>\n",
       "  </thead>\n",
       "  <tbody>\n",
       "    <tr>\n",
       "      <th>0</th>\n",
       "      <td>Photo Editor &amp; Candy Camera &amp; Grid &amp; ScrapBook</td>\n",
       "      <td>ART_AND_DESIGN</td>\n",
       "      <td>4.1</td>\n",
       "      <td>159</td>\n",
       "      <td>19M</td>\n",
       "      <td>10,000+</td>\n",
       "      <td>Free</td>\n",
       "      <td>0</td>\n",
       "      <td>Everyone</td>\n",
       "      <td>Art &amp; Design</td>\n",
       "      <td>January 7, 2018</td>\n",
       "      <td>1.0.0</td>\n",
       "      <td>4.0.3 and up</td>\n",
       "    </tr>\n",
       "    <tr>\n",
       "      <th>1</th>\n",
       "      <td>Coloring book moana</td>\n",
       "      <td>ART_AND_DESIGN</td>\n",
       "      <td>3.9</td>\n",
       "      <td>967</td>\n",
       "      <td>14M</td>\n",
       "      <td>500,000+</td>\n",
       "      <td>Free</td>\n",
       "      <td>0</td>\n",
       "      <td>Everyone</td>\n",
       "      <td>Art &amp; Design;Pretend Play</td>\n",
       "      <td>January 15, 2018</td>\n",
       "      <td>2.0.0</td>\n",
       "      <td>4.0.3 and up</td>\n",
       "    </tr>\n",
       "    <tr>\n",
       "      <th>2</th>\n",
       "      <td>U Launcher Lite – FREE Live Cool Themes, Hide ...</td>\n",
       "      <td>ART_AND_DESIGN</td>\n",
       "      <td>4.7</td>\n",
       "      <td>87510</td>\n",
       "      <td>8.7M</td>\n",
       "      <td>5,000,000+</td>\n",
       "      <td>Free</td>\n",
       "      <td>0</td>\n",
       "      <td>Everyone</td>\n",
       "      <td>Art &amp; Design</td>\n",
       "      <td>August 1, 2018</td>\n",
       "      <td>1.2.4</td>\n",
       "      <td>4.0.3 and up</td>\n",
       "    </tr>\n",
       "    <tr>\n",
       "      <th>3</th>\n",
       "      <td>Sketch - Draw &amp; Paint</td>\n",
       "      <td>ART_AND_DESIGN</td>\n",
       "      <td>4.5</td>\n",
       "      <td>215644</td>\n",
       "      <td>25M</td>\n",
       "      <td>50,000,000+</td>\n",
       "      <td>Free</td>\n",
       "      <td>0</td>\n",
       "      <td>Teen</td>\n",
       "      <td>Art &amp; Design</td>\n",
       "      <td>June 8, 2018</td>\n",
       "      <td>Varies with device</td>\n",
       "      <td>4.2 and up</td>\n",
       "    </tr>\n",
       "    <tr>\n",
       "      <th>4</th>\n",
       "      <td>Pixel Draw - Number Art Coloring Book</td>\n",
       "      <td>ART_AND_DESIGN</td>\n",
       "      <td>4.3</td>\n",
       "      <td>967</td>\n",
       "      <td>2.8M</td>\n",
       "      <td>100,000+</td>\n",
       "      <td>Free</td>\n",
       "      <td>0</td>\n",
       "      <td>Everyone</td>\n",
       "      <td>Art &amp; Design;Creativity</td>\n",
       "      <td>June 20, 2018</td>\n",
       "      <td>1.1</td>\n",
       "      <td>4.4 and up</td>\n",
       "    </tr>\n",
       "    <tr>\n",
       "      <th>5</th>\n",
       "      <td>Paper flowers instructions</td>\n",
       "      <td>ART_AND_DESIGN</td>\n",
       "      <td>4.4</td>\n",
       "      <td>167</td>\n",
       "      <td>5.6M</td>\n",
       "      <td>50,000+</td>\n",
       "      <td>Free</td>\n",
       "      <td>0</td>\n",
       "      <td>Everyone</td>\n",
       "      <td>Art &amp; Design</td>\n",
       "      <td>March 26, 2017</td>\n",
       "      <td>1.0</td>\n",
       "      <td>2.3 and up</td>\n",
       "    </tr>\n",
       "    <tr>\n",
       "      <th>6</th>\n",
       "      <td>Smoke Effect Photo Maker - Smoke Editor</td>\n",
       "      <td>ART_AND_DESIGN</td>\n",
       "      <td>3.8</td>\n",
       "      <td>178</td>\n",
       "      <td>19M</td>\n",
       "      <td>50,000+</td>\n",
       "      <td>Free</td>\n",
       "      <td>0</td>\n",
       "      <td>Everyone</td>\n",
       "      <td>Art &amp; Design</td>\n",
       "      <td>April 26, 2018</td>\n",
       "      <td>1.1</td>\n",
       "      <td>4.0.3 and up</td>\n",
       "    </tr>\n",
       "    <tr>\n",
       "      <th>7</th>\n",
       "      <td>Infinite Painter</td>\n",
       "      <td>ART_AND_DESIGN</td>\n",
       "      <td>4.1</td>\n",
       "      <td>36815</td>\n",
       "      <td>29M</td>\n",
       "      <td>1,000,000+</td>\n",
       "      <td>Free</td>\n",
       "      <td>0</td>\n",
       "      <td>Everyone</td>\n",
       "      <td>Art &amp; Design</td>\n",
       "      <td>June 14, 2018</td>\n",
       "      <td>6.1.61.1</td>\n",
       "      <td>4.2 and up</td>\n",
       "    </tr>\n",
       "    <tr>\n",
       "      <th>8</th>\n",
       "      <td>Garden Coloring Book</td>\n",
       "      <td>ART_AND_DESIGN</td>\n",
       "      <td>4.4</td>\n",
       "      <td>13791</td>\n",
       "      <td>33M</td>\n",
       "      <td>1,000,000+</td>\n",
       "      <td>Free</td>\n",
       "      <td>0</td>\n",
       "      <td>Everyone</td>\n",
       "      <td>Art &amp; Design</td>\n",
       "      <td>September 20, 2017</td>\n",
       "      <td>2.9.2</td>\n",
       "      <td>3.0 and up</td>\n",
       "    </tr>\n",
       "    <tr>\n",
       "      <th>9</th>\n",
       "      <td>Kids Paint Free - Drawing Fun</td>\n",
       "      <td>ART_AND_DESIGN</td>\n",
       "      <td>4.7</td>\n",
       "      <td>121</td>\n",
       "      <td>3.1M</td>\n",
       "      <td>10,000+</td>\n",
       "      <td>Free</td>\n",
       "      <td>0</td>\n",
       "      <td>Everyone</td>\n",
       "      <td>Art &amp; Design;Creativity</td>\n",
       "      <td>July 3, 2018</td>\n",
       "      <td>2.8</td>\n",
       "      <td>4.0.3 and up</td>\n",
       "    </tr>\n",
       "  </tbody>\n",
       "</table>\n",
       "</div>"
      ],
      "text/plain": [
       "                                                 App        Category  Rating  \\\n",
       "0     Photo Editor & Candy Camera & Grid & ScrapBook  ART_AND_DESIGN     4.1   \n",
       "1                                Coloring book moana  ART_AND_DESIGN     3.9   \n",
       "2  U Launcher Lite – FREE Live Cool Themes, Hide ...  ART_AND_DESIGN     4.7   \n",
       "3                              Sketch - Draw & Paint  ART_AND_DESIGN     4.5   \n",
       "4              Pixel Draw - Number Art Coloring Book  ART_AND_DESIGN     4.3   \n",
       "5                         Paper flowers instructions  ART_AND_DESIGN     4.4   \n",
       "6            Smoke Effect Photo Maker - Smoke Editor  ART_AND_DESIGN     3.8   \n",
       "7                                   Infinite Painter  ART_AND_DESIGN     4.1   \n",
       "8                               Garden Coloring Book  ART_AND_DESIGN     4.4   \n",
       "9                      Kids Paint Free - Drawing Fun  ART_AND_DESIGN     4.7   \n",
       "\n",
       "  Reviews  Size     Installs  Type Price Content Rating  \\\n",
       "0     159   19M      10,000+  Free     0       Everyone   \n",
       "1     967   14M     500,000+  Free     0       Everyone   \n",
       "2   87510  8.7M   5,000,000+  Free     0       Everyone   \n",
       "3  215644   25M  50,000,000+  Free     0           Teen   \n",
       "4     967  2.8M     100,000+  Free     0       Everyone   \n",
       "5     167  5.6M      50,000+  Free     0       Everyone   \n",
       "6     178   19M      50,000+  Free     0       Everyone   \n",
       "7   36815   29M   1,000,000+  Free     0       Everyone   \n",
       "8   13791   33M   1,000,000+  Free     0       Everyone   \n",
       "9     121  3.1M      10,000+  Free     0       Everyone   \n",
       "\n",
       "                      Genres        Last Updated         Current Ver  \\\n",
       "0               Art & Design     January 7, 2018               1.0.0   \n",
       "1  Art & Design;Pretend Play    January 15, 2018               2.0.0   \n",
       "2               Art & Design      August 1, 2018               1.2.4   \n",
       "3               Art & Design        June 8, 2018  Varies with device   \n",
       "4    Art & Design;Creativity       June 20, 2018                 1.1   \n",
       "5               Art & Design      March 26, 2017                 1.0   \n",
       "6               Art & Design      April 26, 2018                 1.1   \n",
       "7               Art & Design       June 14, 2018            6.1.61.1   \n",
       "8               Art & Design  September 20, 2017               2.9.2   \n",
       "9    Art & Design;Creativity        July 3, 2018                 2.8   \n",
       "\n",
       "    Android Ver  \n",
       "0  4.0.3 and up  \n",
       "1  4.0.3 and up  \n",
       "2  4.0.3 and up  \n",
       "3    4.2 and up  \n",
       "4    4.4 and up  \n",
       "5    2.3 and up  \n",
       "6  4.0.3 and up  \n",
       "7    4.2 and up  \n",
       "8    3.0 and up  \n",
       "9  4.0.3 and up  "
      ]
     },
     "execution_count": 839,
     "metadata": {},
     "output_type": "execute_result"
    }
   ],
   "source": [
    "#Checking first few samples\n",
    "data.head(10)"
   ]
  },
  {
   "cell_type": "code",
   "execution_count": 840,
   "id": "d0ccbd6a",
   "metadata": {},
   "outputs": [
    {
     "data": {
      "text/plain": [
       "(10841, 13)"
      ]
     },
     "execution_count": 840,
     "metadata": {},
     "output_type": "execute_result"
    }
   ],
   "source": [
    "#Checking shape of the data\n",
    "data.shape"
   ]
  },
  {
   "cell_type": "markdown",
   "id": "42f673e0",
   "metadata": {},
   "source": [
    "***Shape of data:***\n",
    "\n",
    "<b><font color= \"Red\">~ There are 10841 rows and 13 columns in the dataframe </font></b>"
   ]
  },
  {
   "cell_type": "code",
   "execution_count": 841,
   "id": "ab27a43c",
   "metadata": {},
   "outputs": [
    {
     "name": "stdout",
     "output_type": "stream",
     "text": [
      "<class 'pandas.core.frame.DataFrame'>\n",
      "RangeIndex: 10841 entries, 0 to 10840\n",
      "Data columns (total 13 columns):\n",
      " #   Column          Non-Null Count  Dtype  \n",
      "---  ------          --------------  -----  \n",
      " 0   App             10841 non-null  object \n",
      " 1   Category        10841 non-null  object \n",
      " 2   Rating          9367 non-null   float64\n",
      " 3   Reviews         10841 non-null  object \n",
      " 4   Size            10841 non-null  object \n",
      " 5   Installs        10841 non-null  object \n",
      " 6   Type            10840 non-null  object \n",
      " 7   Price           10841 non-null  object \n",
      " 8   Content Rating  10840 non-null  object \n",
      " 9   Genres          10841 non-null  object \n",
      " 10  Last Updated    10841 non-null  object \n",
      " 11  Current Ver     10833 non-null  object \n",
      " 12  Android Ver     10838 non-null  object \n",
      "dtypes: float64(1), object(12)\n",
      "memory usage: 1.1+ MB\n"
     ]
    }
   ],
   "source": [
    "#Getting information of the data\n",
    "data.info()"
   ]
  },
  {
   "cell_type": "markdown",
   "id": "c2d7bd37",
   "metadata": {},
   "source": [
    "***In this dataframe there are two datatypes:***\n",
    "\n",
    "<b><font color= \"Blue\">~object-</font> <b><font color= \"Red\">Non-numeric values present in 12 features, kind of objects inside a class- categories could be there date  time, qualitative data etc.</font></b>\n",
    "\n",
    "<b><font color= \"Blue\">~ float-</font> <b><font color= \"Red\">it means there are decimal values present in only 1 column i.e., rating</font></b>\n",
    "\n",
    "<font color= \"Red\">Also there are some null values in some of the features- rating(1474), Type(1), Content Rating(1), Current Ver(8) and Andriod Ver(3)</font></b>"
   ]
  },
  {
   "cell_type": "markdown",
   "id": "33f6743a",
   "metadata": {},
   "source": [
    "**<h3>3. Check summary statistics of the dataset. List out the columns that need to be worked upon for model\n",
    "building.**"
   ]
  },
  {
   "cell_type": "code",
   "execution_count": 842,
   "id": "90668e9a",
   "metadata": {},
   "outputs": [
    {
     "data": {
      "text/html": [
       "<div>\n",
       "<style scoped>\n",
       "    .dataframe tbody tr th:only-of-type {\n",
       "        vertical-align: middle;\n",
       "    }\n",
       "\n",
       "    .dataframe tbody tr th {\n",
       "        vertical-align: top;\n",
       "    }\n",
       "\n",
       "    .dataframe thead th {\n",
       "        text-align: right;\n",
       "    }\n",
       "</style>\n",
       "<table border=\"1\" class=\"dataframe\">\n",
       "  <thead>\n",
       "    <tr style=\"text-align: right;\">\n",
       "      <th></th>\n",
       "      <th>App</th>\n",
       "      <th>Category</th>\n",
       "      <th>Rating</th>\n",
       "      <th>Reviews</th>\n",
       "      <th>Size</th>\n",
       "      <th>Installs</th>\n",
       "      <th>Type</th>\n",
       "      <th>Price</th>\n",
       "      <th>Content Rating</th>\n",
       "      <th>Genres</th>\n",
       "      <th>Last Updated</th>\n",
       "      <th>Current Ver</th>\n",
       "      <th>Android Ver</th>\n",
       "    </tr>\n",
       "  </thead>\n",
       "  <tbody>\n",
       "    <tr>\n",
       "      <th>count</th>\n",
       "      <td>10841</td>\n",
       "      <td>10841</td>\n",
       "      <td>9367.000000</td>\n",
       "      <td>10841</td>\n",
       "      <td>10841</td>\n",
       "      <td>10841</td>\n",
       "      <td>10840</td>\n",
       "      <td>10841</td>\n",
       "      <td>10840</td>\n",
       "      <td>10841</td>\n",
       "      <td>10841</td>\n",
       "      <td>10833</td>\n",
       "      <td>10838</td>\n",
       "    </tr>\n",
       "    <tr>\n",
       "      <th>unique</th>\n",
       "      <td>9660</td>\n",
       "      <td>34</td>\n",
       "      <td>NaN</td>\n",
       "      <td>6002</td>\n",
       "      <td>462</td>\n",
       "      <td>22</td>\n",
       "      <td>3</td>\n",
       "      <td>93</td>\n",
       "      <td>6</td>\n",
       "      <td>120</td>\n",
       "      <td>1378</td>\n",
       "      <td>2832</td>\n",
       "      <td>33</td>\n",
       "    </tr>\n",
       "    <tr>\n",
       "      <th>top</th>\n",
       "      <td>ROBLOX</td>\n",
       "      <td>FAMILY</td>\n",
       "      <td>NaN</td>\n",
       "      <td>0</td>\n",
       "      <td>Varies with device</td>\n",
       "      <td>1,000,000+</td>\n",
       "      <td>Free</td>\n",
       "      <td>0</td>\n",
       "      <td>Everyone</td>\n",
       "      <td>Tools</td>\n",
       "      <td>August 3, 2018</td>\n",
       "      <td>Varies with device</td>\n",
       "      <td>4.1 and up</td>\n",
       "    </tr>\n",
       "    <tr>\n",
       "      <th>freq</th>\n",
       "      <td>9</td>\n",
       "      <td>1972</td>\n",
       "      <td>NaN</td>\n",
       "      <td>596</td>\n",
       "      <td>1695</td>\n",
       "      <td>1579</td>\n",
       "      <td>10039</td>\n",
       "      <td>10040</td>\n",
       "      <td>8714</td>\n",
       "      <td>842</td>\n",
       "      <td>326</td>\n",
       "      <td>1459</td>\n",
       "      <td>2451</td>\n",
       "    </tr>\n",
       "    <tr>\n",
       "      <th>mean</th>\n",
       "      <td>NaN</td>\n",
       "      <td>NaN</td>\n",
       "      <td>4.193338</td>\n",
       "      <td>NaN</td>\n",
       "      <td>NaN</td>\n",
       "      <td>NaN</td>\n",
       "      <td>NaN</td>\n",
       "      <td>NaN</td>\n",
       "      <td>NaN</td>\n",
       "      <td>NaN</td>\n",
       "      <td>NaN</td>\n",
       "      <td>NaN</td>\n",
       "      <td>NaN</td>\n",
       "    </tr>\n",
       "    <tr>\n",
       "      <th>std</th>\n",
       "      <td>NaN</td>\n",
       "      <td>NaN</td>\n",
       "      <td>0.537431</td>\n",
       "      <td>NaN</td>\n",
       "      <td>NaN</td>\n",
       "      <td>NaN</td>\n",
       "      <td>NaN</td>\n",
       "      <td>NaN</td>\n",
       "      <td>NaN</td>\n",
       "      <td>NaN</td>\n",
       "      <td>NaN</td>\n",
       "      <td>NaN</td>\n",
       "      <td>NaN</td>\n",
       "    </tr>\n",
       "    <tr>\n",
       "      <th>min</th>\n",
       "      <td>NaN</td>\n",
       "      <td>NaN</td>\n",
       "      <td>1.000000</td>\n",
       "      <td>NaN</td>\n",
       "      <td>NaN</td>\n",
       "      <td>NaN</td>\n",
       "      <td>NaN</td>\n",
       "      <td>NaN</td>\n",
       "      <td>NaN</td>\n",
       "      <td>NaN</td>\n",
       "      <td>NaN</td>\n",
       "      <td>NaN</td>\n",
       "      <td>NaN</td>\n",
       "    </tr>\n",
       "    <tr>\n",
       "      <th>25%</th>\n",
       "      <td>NaN</td>\n",
       "      <td>NaN</td>\n",
       "      <td>4.000000</td>\n",
       "      <td>NaN</td>\n",
       "      <td>NaN</td>\n",
       "      <td>NaN</td>\n",
       "      <td>NaN</td>\n",
       "      <td>NaN</td>\n",
       "      <td>NaN</td>\n",
       "      <td>NaN</td>\n",
       "      <td>NaN</td>\n",
       "      <td>NaN</td>\n",
       "      <td>NaN</td>\n",
       "    </tr>\n",
       "    <tr>\n",
       "      <th>50%</th>\n",
       "      <td>NaN</td>\n",
       "      <td>NaN</td>\n",
       "      <td>4.300000</td>\n",
       "      <td>NaN</td>\n",
       "      <td>NaN</td>\n",
       "      <td>NaN</td>\n",
       "      <td>NaN</td>\n",
       "      <td>NaN</td>\n",
       "      <td>NaN</td>\n",
       "      <td>NaN</td>\n",
       "      <td>NaN</td>\n",
       "      <td>NaN</td>\n",
       "      <td>NaN</td>\n",
       "    </tr>\n",
       "    <tr>\n",
       "      <th>75%</th>\n",
       "      <td>NaN</td>\n",
       "      <td>NaN</td>\n",
       "      <td>4.500000</td>\n",
       "      <td>NaN</td>\n",
       "      <td>NaN</td>\n",
       "      <td>NaN</td>\n",
       "      <td>NaN</td>\n",
       "      <td>NaN</td>\n",
       "      <td>NaN</td>\n",
       "      <td>NaN</td>\n",
       "      <td>NaN</td>\n",
       "      <td>NaN</td>\n",
       "      <td>NaN</td>\n",
       "    </tr>\n",
       "    <tr>\n",
       "      <th>max</th>\n",
       "      <td>NaN</td>\n",
       "      <td>NaN</td>\n",
       "      <td>19.000000</td>\n",
       "      <td>NaN</td>\n",
       "      <td>NaN</td>\n",
       "      <td>NaN</td>\n",
       "      <td>NaN</td>\n",
       "      <td>NaN</td>\n",
       "      <td>NaN</td>\n",
       "      <td>NaN</td>\n",
       "      <td>NaN</td>\n",
       "      <td>NaN</td>\n",
       "      <td>NaN</td>\n",
       "    </tr>\n",
       "  </tbody>\n",
       "</table>\n",
       "</div>"
      ],
      "text/plain": [
       "           App Category       Rating Reviews                Size    Installs  \\\n",
       "count    10841    10841  9367.000000   10841               10841       10841   \n",
       "unique    9660       34          NaN    6002                 462          22   \n",
       "top     ROBLOX   FAMILY          NaN       0  Varies with device  1,000,000+   \n",
       "freq         9     1972          NaN     596                1695        1579   \n",
       "mean       NaN      NaN     4.193338     NaN                 NaN         NaN   \n",
       "std        NaN      NaN     0.537431     NaN                 NaN         NaN   \n",
       "min        NaN      NaN     1.000000     NaN                 NaN         NaN   \n",
       "25%        NaN      NaN     4.000000     NaN                 NaN         NaN   \n",
       "50%        NaN      NaN     4.300000     NaN                 NaN         NaN   \n",
       "75%        NaN      NaN     4.500000     NaN                 NaN         NaN   \n",
       "max        NaN      NaN    19.000000     NaN                 NaN         NaN   \n",
       "\n",
       "         Type  Price Content Rating Genres    Last Updated  \\\n",
       "count   10840  10841          10840  10841           10841   \n",
       "unique      3     93              6    120            1378   \n",
       "top      Free      0       Everyone  Tools  August 3, 2018   \n",
       "freq    10039  10040           8714    842             326   \n",
       "mean      NaN    NaN            NaN    NaN             NaN   \n",
       "std       NaN    NaN            NaN    NaN             NaN   \n",
       "min       NaN    NaN            NaN    NaN             NaN   \n",
       "25%       NaN    NaN            NaN    NaN             NaN   \n",
       "50%       NaN    NaN            NaN    NaN             NaN   \n",
       "75%       NaN    NaN            NaN    NaN             NaN   \n",
       "max       NaN    NaN            NaN    NaN             NaN   \n",
       "\n",
       "               Current Ver Android Ver  \n",
       "count                10833       10838  \n",
       "unique                2832          33  \n",
       "top     Varies with device  4.1 and up  \n",
       "freq                  1459        2451  \n",
       "mean                   NaN         NaN  \n",
       "std                    NaN         NaN  \n",
       "min                    NaN         NaN  \n",
       "25%                    NaN         NaN  \n",
       "50%                    NaN         NaN  \n",
       "75%                    NaN         NaN  \n",
       "max                    NaN         NaN  "
      ]
     },
     "execution_count": 842,
     "metadata": {},
     "output_type": "execute_result"
    }
   ],
   "source": [
    "data.describe(include=\"all\") #.T"
   ]
  },
  {
   "cell_type": "code",
   "execution_count": 843,
   "id": "62ac6f10",
   "metadata": {},
   "outputs": [
    {
     "data": {
      "text/plain": [
       "['App',\n",
       " 'Category',\n",
       " 'Reviews',\n",
       " 'Size',\n",
       " 'Installs',\n",
       " 'Type',\n",
       " 'Price',\n",
       " 'Content Rating',\n",
       " 'Genres',\n",
       " 'Last Updated',\n",
       " 'Current Ver',\n",
       " 'Android Ver']"
      ]
     },
     "execution_count": 843,
     "metadata": {},
     "output_type": "execute_result"
    }
   ],
   "source": [
    "# These are all the categorical columns\n",
    "cat_cols = data.select_dtypes(include=\"O\").columns.tolist()\n",
    "cat_cols"
   ]
  },
  {
   "cell_type": "markdown",
   "id": "16f73d85",
   "metadata": {},
   "source": [
    "<b><font color= \"Red\">Almost all the columns have to be work upon one by one as all are objects so they need to be converted with dummies and then one hot encoding to be done."
   ]
  },
  {
   "cell_type": "markdown",
   "id": "d1791bc1",
   "metadata": {},
   "source": [
    "**<h3>4. Check if there are any duplicate records in the dataset? if any drop them**"
   ]
  },
  {
   "cell_type": "code",
   "execution_count": 844,
   "id": "355617c8",
   "metadata": {},
   "outputs": [
    {
     "data": {
      "text/plain": [
       "(483, 13)"
      ]
     },
     "execution_count": 844,
     "metadata": {},
     "output_type": "execute_result"
    }
   ],
   "source": [
    "data[data.duplicated()].shape"
   ]
  },
  {
   "cell_type": "markdown",
   "id": "40272b6a",
   "metadata": {},
   "source": [
    "<b><font color= \"Red\">In total is wee see then there are 483 duplicates in the dataset. But there has to be 1 column where data hasto be unique like id.. so in this App is there which should be unique so we'll see duplicates according to Apps and drop them."
   ]
  },
  {
   "cell_type": "code",
   "execution_count": 845,
   "id": "63593d66",
   "metadata": {},
   "outputs": [],
   "source": [
    "data = data.drop_duplicates(subset=['App'], keep='first')"
   ]
  },
  {
   "cell_type": "code",
   "execution_count": 846,
   "id": "e5fd673e",
   "metadata": {},
   "outputs": [
    {
     "data": {
      "text/plain": [
       "(9660, 13)"
      ]
     },
     "execution_count": 846,
     "metadata": {},
     "output_type": "execute_result"
    }
   ],
   "source": [
    "data.shape"
   ]
  },
  {
   "cell_type": "markdown",
   "id": "4863f15d",
   "metadata": {},
   "source": [
    "<b><font color= \"Red\">Now we are left with 9660 records after removing duplicates according to the apps."
   ]
  },
  {
   "cell_type": "markdown",
   "id": "777eab85",
   "metadata": {},
   "source": [
    "**<h3>5. Check the unique categories of the column 'Category', Is there any invalid category? If yes, drop them.**"
   ]
  },
  {
   "cell_type": "code",
   "execution_count": 847,
   "id": "33b250fe",
   "metadata": {},
   "outputs": [
    {
     "data": {
      "text/plain": [
       "array(['ART_AND_DESIGN', 'AUTO_AND_VEHICLES', 'BEAUTY',\n",
       "       'BOOKS_AND_REFERENCE', 'BUSINESS', 'COMICS', 'COMMUNICATION',\n",
       "       'DATING', 'EDUCATION', 'ENTERTAINMENT', 'EVENTS', 'FINANCE',\n",
       "       'FOOD_AND_DRINK', 'HEALTH_AND_FITNESS', 'HOUSE_AND_HOME',\n",
       "       'LIBRARIES_AND_DEMO', 'LIFESTYLE', 'GAME', 'FAMILY', 'MEDICAL',\n",
       "       'SOCIAL', 'SHOPPING', 'PHOTOGRAPHY', 'SPORTS', 'TRAVEL_AND_LOCAL',\n",
       "       'TOOLS', 'PERSONALIZATION', 'PRODUCTIVITY', 'PARENTING', 'WEATHER',\n",
       "       'VIDEO_PLAYERS', 'NEWS_AND_MAGAZINES', 'MAPS_AND_NAVIGATION',\n",
       "       '1.9'], dtype=object)"
      ]
     },
     "execution_count": 847,
     "metadata": {},
     "output_type": "execute_result"
    }
   ],
   "source": [
    "data[\"Category\"].unique()"
   ]
  },
  {
   "cell_type": "code",
   "execution_count": 848,
   "id": "e31f947a",
   "metadata": {},
   "outputs": [
    {
     "data": {
      "text/plain": [
       "FAMILY                 1832\n",
       "GAME                    959\n",
       "TOOLS                   827\n",
       "BUSINESS                420\n",
       "MEDICAL                 395\n",
       "PERSONALIZATION         376\n",
       "PRODUCTIVITY            374\n",
       "LIFESTYLE               369\n",
       "FINANCE                 345\n",
       "SPORTS                  325\n",
       "COMMUNICATION           315\n",
       "HEALTH_AND_FITNESS      288\n",
       "PHOTOGRAPHY             281\n",
       "NEWS_AND_MAGAZINES      254\n",
       "SOCIAL                  239\n",
       "BOOKS_AND_REFERENCE     222\n",
       "TRAVEL_AND_LOCAL        219\n",
       "SHOPPING                202\n",
       "DATING                  171\n",
       "VIDEO_PLAYERS           163\n",
       "MAPS_AND_NAVIGATION     131\n",
       "EDUCATION               119\n",
       "FOOD_AND_DRINK          112\n",
       "ENTERTAINMENT           102\n",
       "AUTO_AND_VEHICLES        85\n",
       "LIBRARIES_AND_DEMO       84\n",
       "WEATHER                  79\n",
       "HOUSE_AND_HOME           74\n",
       "ART_AND_DESIGN           64\n",
       "EVENTS                   64\n",
       "PARENTING                60\n",
       "COMICS                   56\n",
       "BEAUTY                   53\n",
       "1.9                       1\n",
       "Name: Category, dtype: int64"
      ]
     },
     "execution_count": 848,
     "metadata": {},
     "output_type": "execute_result"
    }
   ],
   "source": [
    "data[\"Category\"].value_counts()"
   ]
  },
  {
   "cell_type": "markdown",
   "id": "d099da76",
   "metadata": {},
   "source": [
    "<b><font color= \"Red\">There is 1 category that is invalid \"1.9\" which has only 1 record so we can drop this"
   ]
  },
  {
   "cell_type": "code",
   "execution_count": 849,
   "id": "89a940f7",
   "metadata": {},
   "outputs": [
    {
     "data": {
      "text/plain": [
       "Int64Index([10472], dtype='int64')"
      ]
     },
     "execution_count": 849,
     "metadata": {},
     "output_type": "execute_result"
    }
   ],
   "source": [
    "inval = data[data[\"Category\"] == \"1.9\"].index\n",
    "inval"
   ]
  },
  {
   "cell_type": "code",
   "execution_count": 850,
   "id": "ee16f4e7",
   "metadata": {},
   "outputs": [],
   "source": [
    "data.drop(inval, inplace=True)"
   ]
  },
  {
   "cell_type": "code",
   "execution_count": 851,
   "id": "0e756de7",
   "metadata": {},
   "outputs": [
    {
     "data": {
      "text/plain": [
       "(9659, 13)"
      ]
     },
     "execution_count": 851,
     "metadata": {},
     "output_type": "execute_result"
    }
   ],
   "source": [
    "data.shape"
   ]
  },
  {
   "cell_type": "markdown",
   "id": "a20f89e0",
   "metadata": {},
   "source": [
    "<b><font color= \"Red\">Now we are left with 9659 records after removing invalid category from \"Category\" column."
   ]
  },
  {
   "cell_type": "markdown",
   "id": "743fe50f",
   "metadata": {},
   "source": [
    "**<h3>6. Check if there are missing values present in the column Rating, If any? drop them and create a new\n",
    "column as 'Rating_category' by converting ratings to high and low categories(>3.5 is high rest low)**"
   ]
  },
  {
   "cell_type": "code",
   "execution_count": 852,
   "id": "71040e52",
   "metadata": {},
   "outputs": [
    {
     "data": {
      "text/plain": [
       "1463"
      ]
     },
     "execution_count": 852,
     "metadata": {},
     "output_type": "execute_result"
    }
   ],
   "source": [
    "#data[\"Rating\"].isnull().any()\n",
    "#data[data[\"Rating\"].isnull()]\n",
    "data[\"Rating\"].isnull().sum()"
   ]
  },
  {
   "cell_type": "code",
   "execution_count": 853,
   "id": "caf8f429",
   "metadata": {},
   "outputs": [],
   "source": [
    "data.dropna(subset = \"Rating\", inplace=True)"
   ]
  },
  {
   "cell_type": "code",
   "execution_count": 854,
   "id": "92446a4d",
   "metadata": {},
   "outputs": [
    {
     "data": {
      "text/plain": [
       "(8196, 13)"
      ]
     },
     "execution_count": 854,
     "metadata": {},
     "output_type": "execute_result"
    }
   ],
   "source": [
    "data.shape"
   ]
  },
  {
   "cell_type": "markdown",
   "id": "720c994a",
   "metadata": {},
   "source": [
    "<b><font color= \"Red\">There were 1463 null values in Rating, so we dropped all rows according to rating null and now left with 8196 rows."
   ]
  },
  {
   "cell_type": "code",
   "execution_count": 855,
   "id": "9b9c6084",
   "metadata": {},
   "outputs": [],
   "source": [
    "#using where to apply condition and map data\n",
    "data[\"Rating_category\"] = np.where(data[\"Rating\"] >3.5, \"high\", \"low\" )"
   ]
  },
  {
   "cell_type": "code",
   "execution_count": 856,
   "id": "452cece7",
   "metadata": {},
   "outputs": [
    {
     "data": {
      "text/plain": [
       "high    7322\n",
       "low      874\n",
       "Name: Rating_category, dtype: int64"
      ]
     },
     "execution_count": 856,
     "metadata": {},
     "output_type": "execute_result"
    }
   ],
   "source": [
    "data[\"Rating_category\"].value_counts()"
   ]
  },
  {
   "cell_type": "markdown",
   "id": "65ef2d56",
   "metadata": {},
   "source": [
    "<b><font color= \"Red\">New column \"Rating_category\" created where the ratings which are >3.5 are mapped as high and else as low. So, there are 7322 high and 874 low"
   ]
  },
  {
   "cell_type": "markdown",
   "id": "dacbf901",
   "metadata": {},
   "source": [
    "**<h3>7. Check the distribution of the newly created column 'Rating_category' and comment on the distribution.**"
   ]
  },
  {
   "cell_type": "code",
   "execution_count": 857,
   "id": "2cf5ac01",
   "metadata": {
    "scrolled": false
   },
   "outputs": [
    {
     "data": {
      "image/png": "[encoded data removed]",
      "text/plain": [
       "<Figure size 500x500 with 1 Axes>"
      ]
     },
     "metadata": {},
     "output_type": "display_data"
    }
   ],
   "source": [
    "sns.displot(data[\"Rating_category\"])\n",
    "plt.text(x=-0.05, y= data['Rating_category'].value_counts()[0], c=\"green\", s=data['Rating_category'].value_counts()[0])  #+1,+2 used after 0 to give space b/w bar and number\n",
    "plt.text(x=0.95, y= data['Rating_category'].value_counts()[1], c=\"red\", s=data['Rating_category'].value_counts()[1])\n",
    "#plt.text(x=0.98, y= tips_data['smoker'].value_counts()[1]+1, c=\"red\", s=\"Ninety-Three\")\n",
    "plt.show()"
   ]
  },
  {
   "cell_type": "markdown",
   "id": "98705ab9",
   "metadata": {},
   "source": [
    "<b><font color= \"Red\">As the new column \"Rating_category\" is a categorical column so we can't see any distribution only barplot could be seen or dsplot with two bars as there are two categories high and low."
   ]
  },
  {
   "cell_type": "markdown",
   "id": "33d89c7d",
   "metadata": {},
   "source": [
    "**<h3>8. Convert the column \"Reviews'' to numeric data type and check the presence of outliers in the column and\n",
    "handle the outliers using a transformation approach.(Hint: Use log transformation)**"
   ]
  },
  {
   "cell_type": "code",
   "execution_count": 858,
   "id": "f93add29",
   "metadata": {
    "scrolled": true
   },
   "outputs": [
    {
     "data": {
      "text/plain": [
       "8196"
      ]
     },
     "execution_count": 858,
     "metadata": {},
     "output_type": "execute_result"
    }
   ],
   "source": [
    "# Checking how many numeric values are there \n",
    "data['Reviews'].str.isnumeric().sum()"
   ]
  },
  {
   "cell_type": "code",
   "execution_count": 859,
   "id": "e64e9b55",
   "metadata": {},
   "outputs": [],
   "source": [
    "# Converting reviews datatype to int(numeric)\n",
    "data['Reviews'] = data['Reviews'].astype(int)"
   ]
  },
  {
   "cell_type": "code",
   "execution_count": 860,
   "id": "ce01d207",
   "metadata": {},
   "outputs": [
    {
     "data": {
      "text/plain": [
       "dtype('int32')"
      ]
     },
     "execution_count": 860,
     "metadata": {},
     "output_type": "execute_result"
    }
   ],
   "source": [
    "data[\"Reviews\"].dtype"
   ]
  },
  {
   "cell_type": "code",
   "execution_count": 861,
   "id": "3a2aa713",
   "metadata": {},
   "outputs": [
    {
     "data": {
      "image/png": "[encoded data removed]",
      "text/plain": [
       "<Figure size 640x480 with 1 Axes>"
      ]
     },
     "metadata": {},
     "output_type": "display_data"
    }
   ],
   "source": [
    "#Checking outliers through boxplot\n",
    "plt.boxplot(data[\"Reviews\"])\n",
    "plt.show()"
   ]
  },
  {
   "cell_type": "code",
   "execution_count": 862,
   "id": "7cd4da28",
   "metadata": {},
   "outputs": [
    {
     "data": {
      "image/png": "[encoded data removed]",
      "text/plain": [
       "<Figure size 640x480 with 1 Axes>"
      ]
     },
     "metadata": {},
     "output_type": "display_data"
    }
   ],
   "source": [
    "#checking distribution through kde plot\n",
    "sns.kdeplot(data[\"Reviews\"])\n",
    "plt.show()"
   ]
  },
  {
   "cell_type": "markdown",
   "id": "7ec6c0bc",
   "metadata": {},
   "source": [
    "<b><font color= \"Red\">We can clearly see that \"Reviews\" data is highly skewed towards right. There is positive skewness and lot of outliers are present in the data. So we'll try to normalize data with help of log transformation."
   ]
  },
  {
   "cell_type": "code",
   "execution_count": 863,
   "id": "e7da7f5f",
   "metadata": {},
   "outputs": [
    {
     "data": {
      "text/plain": [
       "0        2.201397\n",
       "1        2.985426\n",
       "2        4.942058\n",
       "3        5.333737\n",
       "4        2.985426\n",
       "           ...   \n",
       "10834    0.845098\n",
       "10836    1.579784\n",
       "10837    0.602060\n",
       "10839    2.056905\n",
       "10840    5.600218\n",
       "Name: Reviews, Length: 8196, dtype: float64"
      ]
     },
     "execution_count": 863,
     "metadata": {},
     "output_type": "execute_result"
    }
   ],
   "source": [
    "#Using log10 to transform data to normal\n",
    "data[\"Reviews\"] = np.log10(data[\"Reviews\"])\n",
    "data[\"Reviews\"]"
   ]
  },
  {
   "cell_type": "code",
   "execution_count": 864,
   "id": "9a794309",
   "metadata": {},
   "outputs": [
    {
     "data": {
      "image/png": "[encoded data removed]",
      "text/plain": [
       "<Figure size 500x500 with 1 Axes>"
      ]
     },
     "metadata": {},
     "output_type": "display_data"
    }
   ],
   "source": [
    "#Checking data pot\n",
    "sns.displot(data[\"Reviews\"], kde=True)\n",
    "plt.show()"
   ]
  },
  {
   "cell_type": "markdown",
   "id": "13f8bd07",
   "metadata": {},
   "source": [
    "<b><font color= \"Red\">We can see that with help of log transformation the \"Reviews column data is normalized to great extent"
   ]
  },
  {
   "cell_type": "markdown",
   "id": "b51152f5",
   "metadata": {},
   "source": [
    "**<h3>9. The column 'Size' contains alphanumeric values, treat the non numeric data and convert the column into\n",
    "suitable data type. (hint: Replace M with 1 million and K with 1 thousand, and drop the entries where\n",
    "size='Varies with device')**"
   ]
  },
  {
   "cell_type": "code",
   "execution_count": 865,
   "id": "dcbd9226",
   "metadata": {},
   "outputs": [],
   "source": [
    "#We first use the replace() method to replace K, k, M and Varies with device with *1e3, *1e6 and 0, respectively:\n",
    "#Next, we mathematically evaluate each value using map(pd.eval): and then using astype(int) we convert it to numeric\n",
    "data[\"Size\"]=data[\"Size\"].replace({\"K\":\"*1e3\",\"k\":\"*1e3\", \"M\":\"*1e6\", \"Varies with device\" :\"0\" }, regex=True).map(pd.eval).astype(int)"
   ]
  },
  {
   "cell_type": "code",
   "execution_count": 866,
   "id": "9760a308",
   "metadata": {},
   "outputs": [],
   "source": [
    "#data[\"Size\"].unique()"
   ]
  },
  {
   "cell_type": "code",
   "execution_count": 867,
   "id": "09d0e3b4",
   "metadata": {},
   "outputs": [
    {
     "data": {
      "text/plain": [
       "1169"
      ]
     },
     "execution_count": 867,
     "metadata": {},
     "output_type": "execute_result"
    }
   ],
   "source": [
    "#We had replaced varies with device with 0 so we'll drop all with 0\n",
    "todrop = data[data[\"Size\"] == 0].index\n",
    "todrop.nunique()"
   ]
  },
  {
   "cell_type": "code",
   "execution_count": 868,
   "id": "1631f6f7",
   "metadata": {},
   "outputs": [],
   "source": [
    "#Dropping all rows where 0. 1169 rows will be dropped out of 8196\n",
    "data.drop(todrop, inplace=True)"
   ]
  },
  {
   "cell_type": "code",
   "execution_count": 869,
   "id": "ee0e41ca",
   "metadata": {},
   "outputs": [
    {
     "data": {
      "text/plain": [
       "(7027, 14)"
      ]
     },
     "execution_count": 869,
     "metadata": {},
     "output_type": "execute_result"
    }
   ],
   "source": [
    "data.shape"
   ]
  },
  {
   "cell_type": "markdown",
   "id": "65b16828",
   "metadata": {},
   "source": [
    "<b><font color= \"Red\">After replacing and converting size column into numeric and dropping all rows with Varies with device we are left with 7027 rows."
   ]
  },
  {
   "cell_type": "markdown",
   "id": "c3da65ab",
   "metadata": {},
   "source": [
    "**<h3>10. Check the column 'Installs', treat the unwanted characters and convert the column into a suitable data type.**"
   ]
  },
  {
   "cell_type": "code",
   "execution_count": 870,
   "id": "f67d2eff",
   "metadata": {},
   "outputs": [
    {
     "data": {
      "text/plain": [
       "1,000,000+        1175\n",
       "100,000+           989\n",
       "10,000+            948\n",
       "1,000+             674\n",
       "10,000,000+        646\n",
       "500,000+           461\n",
       "5,000,000+         450\n",
       "50,000+            427\n",
       "5,000+             413\n",
       "100+               297\n",
       "500+               195\n",
       "50,000,000+        111\n",
       "100,000,000+        96\n",
       "10+                 67\n",
       "50+                 56\n",
       "5+                   9\n",
       "500,000,000+         8\n",
       "1+                   3\n",
       "1,000,000,000+       2\n",
       "Name: Installs, dtype: int64"
      ]
     },
     "execution_count": 870,
     "metadata": {},
     "output_type": "execute_result"
    }
   ],
   "source": [
    "data[\"Installs\"].value_counts()"
   ]
  },
  {
   "cell_type": "code",
   "execution_count": 871,
   "id": "a4fc84ec",
   "metadata": {},
   "outputs": [
    {
     "name": "stderr",
     "output_type": "stream",
     "text": [
      "C:\\Users\\A\\AppData\\Local\\Temp\\ipykernel_13536\\2295660595.py:4: FutureWarning: The default value of regex will change from True to False in a future version. In addition, single character regular expressions will *not* be treated as literal strings when regex=True.\n",
      "  data[\"Installs\"] = data[\"Installs\"].str.replace(char, \"\")\n"
     ]
    }
   ],
   "source": [
    "#Iterating through for loop to remove + and , signs from the data\n",
    "char_to_remove = [\"+\" , \",\"]\n",
    "for char in char_to_remove:\n",
    "    data[\"Installs\"] = data[\"Installs\"].str.replace(char, \"\")"
   ]
  },
  {
   "cell_type": "code",
   "execution_count": 872,
   "id": "e4a6d0ad",
   "metadata": {},
   "outputs": [
    {
     "data": {
      "text/plain": [
       "array(['10000', '500000', '5000000', '50000000', '100000', '50000',\n",
       "       '1000000', '10000000', '5000', '100000000', '1000', '500000000',\n",
       "       '100', '500', '10', '1000000000', '5', '50', '1'], dtype=object)"
      ]
     },
     "execution_count": 872,
     "metadata": {},
     "output_type": "execute_result"
    }
   ],
   "source": [
    "#All unwanted characters removed\n",
    "data[\"Installs\"].unique()"
   ]
  },
  {
   "cell_type": "code",
   "execution_count": 873,
   "id": "6dd11d68",
   "metadata": {},
   "outputs": [
    {
     "name": "stdout",
     "output_type": "stream",
     "text": [
      "int32\n"
     ]
    }
   ],
   "source": [
    "#Convertig data back to numerical\n",
    "data[\"Installs\"] = data[\"Installs\"].astype(int)\n",
    "print(data[\"Installs\"].dtype)"
   ]
  },
  {
   "cell_type": "markdown",
   "id": "f77c1e4b",
   "metadata": {},
   "source": [
    "**<h3>11. Check the column 'Price' , remove the unwanted characters and convert the column into a suitable data type.**"
   ]
  },
  {
   "cell_type": "code",
   "execution_count": 874,
   "id": "70814820",
   "metadata": {},
   "outputs": [
    {
     "data": {
      "text/plain": [
       "array(['0', '$4.99', '$6.99', '$7.99', '$3.99', '$5.99', '$2.99', '$1.99',\n",
       "       '$9.99', '$0.99', '$9.00', '$5.49', '$10.00', '$24.99', '$11.99',\n",
       "       '$79.99', '$16.99', '$14.99', '$29.99', '$12.99', '$3.49',\n",
       "       '$10.99', '$7.49', '$1.50', '$19.99', '$15.99', '$33.99', '$39.99',\n",
       "       '$2.49', '$4.49', '$1.70', '$1.49', '$3.88', '$399.99', '$17.99',\n",
       "       '$400.00', '$3.02', '$1.76', '$4.84', '$4.77', '$1.61', '$1.59',\n",
       "       '$6.49', '$1.29', '$299.99', '$379.99', '$37.99', '$18.99',\n",
       "       '$389.99', '$8.49', '$1.75', '$14.00', '$2.00', '$3.08', '$2.59',\n",
       "       '$19.40', '$15.46', '$8.99', '$3.04', '$13.99', '$4.29', '$3.28',\n",
       "       '$4.60', '$1.00', '$2.90', '$1.97', '$2.56', '$1.20'], dtype=object)"
      ]
     },
     "execution_count": 874,
     "metadata": {},
     "output_type": "execute_result"
    }
   ],
   "source": [
    "data[\"Price\"].unique()"
   ]
  },
  {
   "cell_type": "code",
   "execution_count": 875,
   "id": "c902e2e6",
   "metadata": {},
   "outputs": [
    {
     "name": "stderr",
     "output_type": "stream",
     "text": [
      "C:\\Users\\A\\AppData\\Local\\Temp\\ipykernel_13536\\2222858593.py:2: FutureWarning: The default value of regex will change from True to False in a future version. In addition, single character regular expressions will *not* be treated as literal strings when regex=True.\n",
      "  data[\"Price\"] = data[\"Price\"].str.replace(\"$\", \"\")\n"
     ]
    }
   ],
   "source": [
    "#Replacing $ with blank\n",
    "data[\"Price\"] = data[\"Price\"].str.replace(\"$\", \"\")"
   ]
  },
  {
   "cell_type": "code",
   "execution_count": 876,
   "id": "ca622f54",
   "metadata": {},
   "outputs": [
    {
     "data": {
      "text/plain": [
       "array(['0', '4.99', '6.99', '7.99', '3.99', '5.99', '2.99', '1.99',\n",
       "       '9.99', '0.99', '9.00', '5.49', '10.00', '24.99', '11.99', '79.99',\n",
       "       '16.99', '14.99', '29.99', '12.99', '3.49', '10.99', '7.49',\n",
       "       '1.50', '19.99', '15.99', '33.99', '39.99', '2.49', '4.49', '1.70',\n",
       "       '1.49', '3.88', '399.99', '17.99', '400.00', '3.02', '1.76',\n",
       "       '4.84', '4.77', '1.61', '1.59', '6.49', '1.29', '299.99', '379.99',\n",
       "       '37.99', '18.99', '389.99', '8.49', '1.75', '14.00', '2.00',\n",
       "       '3.08', '2.59', '19.40', '15.46', '8.99', '3.04', '13.99', '4.29',\n",
       "       '3.28', '4.60', '1.00', '2.90', '1.97', '2.56', '1.20'],\n",
       "      dtype=object)"
      ]
     },
     "execution_count": 876,
     "metadata": {},
     "output_type": "execute_result"
    }
   ],
   "source": [
    "#Al $ signs removed \n",
    "data[\"Price\"].unique()"
   ]
  },
  {
   "cell_type": "code",
   "execution_count": 877,
   "id": "bb22c312",
   "metadata": {},
   "outputs": [
    {
     "name": "stdout",
     "output_type": "stream",
     "text": [
      "float64\n"
     ]
    }
   ],
   "source": [
    "#Convertig data back to numerical\n",
    "data[\"Price\"] = data[\"Price\"].astype(float)\n",
    "print(data[\"Price\"].dtype)"
   ]
  },
  {
   "cell_type": "markdown",
   "id": "9e7a0cbd",
   "metadata": {},
   "source": [
    "**<h3>12. Drop the columns which you think redundant for the analysis.(suggestion: drop column 'rating', since we\n",
    "created a new feature from it (i.e. rating_category) and the columns 'App', 'Rating' ,'Genres','Last Updated',\n",
    "'Current Ver','Android Ver' columns since which are redundant for our analysis)**"
   ]
  },
  {
   "cell_type": "code",
   "execution_count": 878,
   "id": "1b56c45a",
   "metadata": {},
   "outputs": [
    {
     "data": {
      "text/plain": [
       "Index(['App', 'Category', 'Rating', 'Reviews', 'Size', 'Installs', 'Type',\n",
       "       'Price', 'Content Rating', 'Genres', 'Last Updated', 'Current Ver',\n",
       "       'Android Ver', 'Rating_category'],\n",
       "      dtype='object')"
      ]
     },
     "execution_count": 878,
     "metadata": {},
     "output_type": "execute_result"
    }
   ],
   "source": [
    "data.columns"
   ]
  },
  {
   "cell_type": "code",
   "execution_count": 879,
   "id": "4604d915",
   "metadata": {},
   "outputs": [
    {
     "data": {
      "text/plain": [
       "(7027, 8)"
      ]
     },
     "execution_count": 879,
     "metadata": {},
     "output_type": "execute_result"
    }
   ],
   "source": [
    "#Dropping redundant columns\n",
    "data.drop(data[['Rating', 'App', 'Genres', 'Last Updated', 'Current Ver', 'Android Ver']], axis=1, inplace=True)\n",
    "data.shape"
   ]
  },
  {
   "cell_type": "markdown",
   "id": "f00a116b",
   "metadata": {},
   "source": [
    "<b><font color= \"Red\">After removing all redundant columns we are left with 8 columns/features out of 14"
   ]
  },
  {
   "cell_type": "markdown",
   "id": "34666ac3",
   "metadata": {},
   "source": [
    "**<h3>13. Encode the categorical columns.**"
   ]
  },
  {
   "cell_type": "code",
   "execution_count": 880,
   "id": "8edbc02c",
   "metadata": {},
   "outputs": [
    {
     "data": {
      "text/plain": [
       "array(['ART_AND_DESIGN', 'AUTO_AND_VEHICLES', 'BEAUTY',\n",
       "       'BOOKS_AND_REFERENCE', 'BUSINESS', 'COMICS', 'COMMUNICATION',\n",
       "       'DATING', 'EDUCATION', 'ENTERTAINMENT', 'EVENTS', 'FINANCE',\n",
       "       'FOOD_AND_DRINK', 'HEALTH_AND_FITNESS', 'HOUSE_AND_HOME',\n",
       "       'LIBRARIES_AND_DEMO', 'LIFESTYLE', 'GAME', 'FAMILY', 'MEDICAL',\n",
       "       'SOCIAL', 'SHOPPING', 'PHOTOGRAPHY', 'SPORTS', 'TRAVEL_AND_LOCAL',\n",
       "       'TOOLS', 'PERSONALIZATION', 'PRODUCTIVITY', 'PARENTING', 'WEATHER',\n",
       "       'VIDEO_PLAYERS', 'NEWS_AND_MAGAZINES', 'MAPS_AND_NAVIGATION'],\n",
       "      dtype=object)"
      ]
     },
     "execution_count": 880,
     "metadata": {},
     "output_type": "execute_result"
    }
   ],
   "source": [
    "data[\"Category\"].unique()"
   ]
  },
  {
   "cell_type": "code",
   "execution_count": 881,
   "id": "7c43e6a6",
   "metadata": {},
   "outputs": [
    {
     "data": {
      "text/plain": [
       "array(['Free', 'Paid'], dtype=object)"
      ]
     },
     "execution_count": 881,
     "metadata": {},
     "output_type": "execute_result"
    }
   ],
   "source": [
    "data[\"Type\"].unique()"
   ]
  },
  {
   "cell_type": "code",
   "execution_count": 882,
   "id": "9c1982d8",
   "metadata": {},
   "outputs": [
    {
     "data": {
      "text/plain": [
       "array(['Everyone', 'Teen', 'Everyone 10+', 'Mature 17+',\n",
       "       'Adults only 18+', 'Unrated'], dtype=object)"
      ]
     },
     "execution_count": 882,
     "metadata": {},
     "output_type": "execute_result"
    }
   ],
   "source": [
    "data[\"Content Rating\"].unique()"
   ]
  },
  {
   "cell_type": "code",
   "execution_count": 883,
   "id": "2140302b",
   "metadata": {
    "scrolled": false
   },
   "outputs": [
    {
     "data": {
      "text/plain": [
       "array(['high', 'low'], dtype=object)"
      ]
     },
     "execution_count": 883,
     "metadata": {},
     "output_type": "execute_result"
    }
   ],
   "source": [
    "data[\"Rating_category\"].unique()"
   ]
  },
  {
   "cell_type": "code",
   "execution_count": 884,
   "id": "6955197a",
   "metadata": {},
   "outputs": [],
   "source": [
    "#Changed high with 1 and low with because it will be used for model training\n",
    "data[\"Rating_category\"] = data[\"Rating_category\"].map({\"high\":1, \"low\":0})"
   ]
  },
  {
   "cell_type": "code",
   "execution_count": 885,
   "id": "1ef829e4",
   "metadata": {},
   "outputs": [
    {
     "data": {
      "text/plain": [
       "(7027, 43)"
      ]
     },
     "execution_count": 885,
     "metadata": {},
     "output_type": "execute_result"
    }
   ],
   "source": [
    "data = pd.get_dummies(data, columns=[\"Category\", \"Type\", \"Content Rating\"],drop_first=True)\n",
    "data.shape"
   ]
  },
  {
   "cell_type": "markdown",
   "id": "33358051",
   "metadata": {},
   "source": [
    "<b><font color= \"Red\">With get dummies we have encoded all categorical variables and dropped first, so we now have 43 columns with 7027 rows"
   ]
  },
  {
   "cell_type": "markdown",
   "id": "d4924798",
   "metadata": {},
   "source": [
    "**<h3>14. Segregate the target and independent features (Hint: Use Rating_category as the target)**"
   ]
  },
  {
   "cell_type": "code",
   "execution_count": 886,
   "id": "49d04ded",
   "metadata": {},
   "outputs": [
    {
     "name": "stdout",
     "output_type": "stream",
     "text": [
      "Index(['Reviews', 'Size', 'Installs', 'Price', 'Category_AUTO_AND_VEHICLES',\n",
      "       'Category_BEAUTY', 'Category_BOOKS_AND_REFERENCE', 'Category_BUSINESS',\n",
      "       'Category_COMICS', 'Category_COMMUNICATION', 'Category_DATING',\n",
      "       'Category_EDUCATION', 'Category_ENTERTAINMENT', 'Category_EVENTS',\n",
      "       'Category_FAMILY', 'Category_FINANCE', 'Category_FOOD_AND_DRINK',\n",
      "       'Category_GAME', 'Category_HEALTH_AND_FITNESS',\n",
      "       'Category_HOUSE_AND_HOME', 'Category_LIBRARIES_AND_DEMO',\n",
      "       'Category_LIFESTYLE', 'Category_MAPS_AND_NAVIGATION',\n",
      "       'Category_MEDICAL', 'Category_NEWS_AND_MAGAZINES', 'Category_PARENTING',\n",
      "       'Category_PERSONALIZATION', 'Category_PHOTOGRAPHY',\n",
      "       'Category_PRODUCTIVITY', 'Category_SHOPPING', 'Category_SOCIAL',\n",
      "       'Category_SPORTS', 'Category_TOOLS', 'Category_TRAVEL_AND_LOCAL',\n",
      "       'Category_VIDEO_PLAYERS', 'Category_WEATHER', 'Type_Paid',\n",
      "       'Content Rating_Everyone', 'Content Rating_Everyone 10+',\n",
      "       'Content Rating_Mature 17+', 'Content Rating_Teen',\n",
      "       'Content Rating_Unrated'],\n",
      "      dtype='object')\n"
     ]
    }
   ],
   "source": [
    "X = data.drop(\"Rating_category\", axis=1)\n",
    "y = data[[\"Rating_category\"]]\n",
    "print(X.columns)"
   ]
  },
  {
   "cell_type": "markdown",
   "id": "2b84b1a2",
   "metadata": {},
   "source": [
    "**<h3>15. Split the dataset into train and test.**"
   ]
  },
  {
   "cell_type": "code",
   "execution_count": 887,
   "id": "e0d01470",
   "metadata": {},
   "outputs": [],
   "source": [
    "#Using sklearn model selection I divided the data into train and test\n",
    "X_train, X_test, y_train, y_test = train_test_split(X,y, test_size = 0.30, random_state = 1)"
   ]
  },
  {
   "cell_type": "markdown",
   "id": "9d828ed6",
   "metadata": {},
   "source": [
    "**<h3>16. Standardize the data, so that the values are within a particular range.**"
   ]
  },
  {
   "cell_type": "code",
   "execution_count": 888,
   "id": "ed36e1e2",
   "metadata": {},
   "outputs": [
    {
     "data": {
      "text/plain": [
       "StandardScaler()"
      ]
     },
     "execution_count": 888,
     "metadata": {},
     "output_type": "execute_result"
    }
   ],
   "source": [
    "#Scales the data. Essentially returns the z-scores of every attribute\n",
    "std_scale = StandardScaler()\n",
    "std_scale"
   ]
  },
  {
   "cell_type": "code",
   "execution_count": 889,
   "id": "f97eb75c",
   "metadata": {},
   "outputs": [],
   "source": [
    "X_train = std_scale.fit_transform(X_train)\n",
    "X_test = std_scale.fit_transform(X_test)\n",
    "y_train = std_scale.fit_transform(y_train)\n",
    "y_test = std_scale.fit_transform(y_test)"
   ]
  },
  {
   "cell_type": "code",
   "execution_count": 890,
   "id": "0af2e841",
   "metadata": {},
   "outputs": [
    {
     "data": {
      "text/plain": [
       "array([[ 1.33984806,  2.86191899,  0.2015574 , ..., -0.21329134,\n",
       "        -0.35302748, -0.014261  ],\n",
       "       [ 0.53593007,  2.10548901, -0.15529026, ..., -0.21329134,\n",
       "        -0.35302748, -0.014261  ],\n",
       "       [-0.01589245,  0.94859611, -0.15529026, ..., -0.21329134,\n",
       "        -0.35302748, -0.014261  ],\n",
       "       ...,\n",
       "       [-0.34902154, -0.43077619, -0.15709252, ..., -0.21329134,\n",
       "        -0.35302748, -0.014261  ],\n",
       "       [ 0.8215158 , -0.29728855,  0.02133131, ..., -0.21329134,\n",
       "        -0.35302748, -0.014261  ],\n",
       "       [ 0.54563056, -0.11930503, -0.12284957, ..., -0.21329134,\n",
       "         2.83264068, -0.014261  ]])"
      ]
     },
     "execution_count": 890,
     "metadata": {},
     "output_type": "execute_result"
    }
   ],
   "source": [
    "X_train"
   ]
  },
  {
   "cell_type": "code",
   "execution_count": 891,
   "id": "0abb96d0",
   "metadata": {},
   "outputs": [
    {
     "data": {
      "text/plain": [
       "array([[-6.46465930e-01, -9.30745983e-01, -1.79362020e-01, ...,\n",
       "        -2.11131530e-01, -3.53270435e-01,  0.00000000e+00],\n",
       "       [-1.15193017e+00, -8.16575866e-01, -1.79362020e-01, ...,\n",
       "        -2.11131530e-01, -3.53270435e-01,  0.00000000e+00],\n",
       "       [ 1.11494190e+00,  3.21707798e-03,  1.52694821e-02, ...,\n",
       "        -2.11131530e-01, -3.53270435e-01,  0.00000000e+00],\n",
       "       ...,\n",
       "       [ 1.46727354e+00,  1.41961326e+00,  2.10095810e-01, ...,\n",
       "        -2.11131530e-01, -3.53270435e-01,  0.00000000e+00],\n",
       "       [ 1.24121785e+00,  5.18270237e-01, -1.40591580e-01, ...,\n",
       "         4.73638399e+00, -3.53270435e-01,  0.00000000e+00],\n",
       "       [ 4.63142256e-01, -6.27723042e-01, -1.60074213e-01, ...,\n",
       "        -2.11131530e-01, -3.53270435e-01,  0.00000000e+00]])"
      ]
     },
     "execution_count": 891,
     "metadata": {},
     "output_type": "execute_result"
    }
   ],
   "source": [
    "X_test"
   ]
  },
  {
   "cell_type": "code",
   "execution_count": 892,
   "id": "eeb1c043",
   "metadata": {},
   "outputs": [
    {
     "data": {
      "text/plain": [
       "array([[0.3552092],\n",
       "       [0.3552092],\n",
       "       [0.3552092],\n",
       "       ...,\n",
       "       [0.3552092],\n",
       "       [0.3552092],\n",
       "       [0.3552092]])"
      ]
     },
     "execution_count": 892,
     "metadata": {},
     "output_type": "execute_result"
    }
   ],
   "source": [
    "y_train"
   ]
  },
  {
   "cell_type": "code",
   "execution_count": 893,
   "id": "df14cd32",
   "metadata": {},
   "outputs": [
    {
     "data": {
      "text/plain": [
       "array([[ 0.38154038],\n",
       "       [ 0.38154038],\n",
       "       [-2.62095459],\n",
       "       ...,\n",
       "       [ 0.38154038],\n",
       "       [ 0.38154038],\n",
       "       [ 0.38154038]])"
      ]
     },
     "execution_count": 893,
     "metadata": {},
     "output_type": "execute_result"
    }
   ],
   "source": [
    "y_test"
   ]
  },
  {
   "cell_type": "markdown",
   "id": "c881a1e7",
   "metadata": {},
   "source": [
    "# <center>End of Project Part-I"
   ]
  },
  {
   "cell_type": "code",
   "execution_count": null,
   "id": "c1df87ea",
   "metadata": {},
   "outputs": [],
   "source": []
  }
 ],
 "metadata": {
  "kernelspec": {
   "display_name": "Python 3 (ipykernel)",
   "language": "python",
   "name": "python3"
  },
  "language_info": {
   "codemirror_mode": {
    "name": "ipython",
    "version": 3
   },
   "file_extension": ".py",
   "mimetype": "text/x-python",
   "name": "python",
   "nbconvert_exporter": "python",
   "pygments_lexer": "ipython3",
   "version": "3.9.13"
  }
 },
 "nbformat": 4,
 "nbformat_minor": 5
}
